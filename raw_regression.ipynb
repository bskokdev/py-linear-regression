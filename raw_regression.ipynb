{
 "cells": [
  {
   "cell_type": "code",
   "execution_count": 18,
   "metadata": {},
   "outputs": [],
   "source": [
    "from typing import List\n",
    "\n",
    "class LinearRegression:\n",
    "    def __init__(self, w: float = 1, b: float = 0, learning_rate: float = 0.01) -> None:\n",
    "        self.w = w\n",
    "        self.b = b\n",
    "        self.learning_rate = learning_rate\n",
    "\n",
    "    def fit(self, x_train: List[float], y_train: List[float], epochs: int = 1000) -> None:\n",
    "        m = len(x_train)\n",
    "        for epoch in range(epochs):\n",
    "            y_pred = self.predict(x_train)\n",
    "            mse = LinearRegression.compute_mse(y_pred, y_train)\n",
    "\n",
    "            # compute the gradients (partial derivatives of the loss function J - MSE)\n",
    "            errors = [y_pred[i] - y_train[i] for i in range(m)]\n",
    "            dw = (1 / m) * sum(errors[i] * x_train[i] for i in range(m))\n",
    "            db = (1 / m) * sum(errors)\n",
    "\n",
    "            self.w -= self.learning_rate * dw \n",
    "            self.b -= self.learning_rate * db\n",
    "\n",
    "            if epoch % 100 == 0:\n",
    "                print(f\"Epoch: {epoch}, MSE: {mse}\")\n",
    "\n",
    "    def predict(self, x_predict: List[float]) -> List[float]:\n",
    "        return [x * self.w + self.b for x in x_predict]\n",
    "\n",
    "    @staticmethod\n",
    "    def compute_mse(y_train: List[float], y_prediction: List[float]) -> float:\n",
    "        m = len(y_train)\n",
    "        return (1 / (2 * m)) * sum((y_train[i] - y_prediction[i]) ** 2 for i in range(m))"
   ]
  },
  {
   "cell_type": "code",
   "execution_count": 19,
   "metadata": {},
   "outputs": [
    {
     "name": "stdout",
     "output_type": "stream",
     "text": [
      "Epoch: 0, MSE: 48.0\n",
      "Epoch: 100, MSE: 0.14392846140158663\n",
      "Epoch: 200, MSE: 0.07914131916165541\n",
      "Epoch: 300, MSE: 0.043530720782905014\n",
      "Epoch: 400, MSE: 0.023943543941019975\n",
      "Epoch: 500, MSE: 0.013169855360646542\n",
      "Epoch: 600, MSE: 0.007243918888849419\n",
      "Epoch: 700, MSE: 0.003984429550003297\n",
      "Epoch: 800, MSE: 0.002191587051502882\n",
      "Epoch: 900, MSE: 0.0012054558234844766\n",
      "[0.06290148900525033, 5.04083683805678, 10.01877218710831, 14.996707536159839, 19.974642885211367, 24.952578234262894, 29.930513583314426, 34.90844893236596, 39.886384281417484, 44.86431963046901, 49.84225497952054, 54.820190328572075, 59.7981256776236, 64.77606102667514, 69.75399637572667, 74.73193172477819, 79.70986707382973, 84.68780242288126, 89.66573777193278, 94.64367312098432, 99.62160847003584, 104.59954381908737, 109.57747916813891, 114.55541451719043, 119.53334986624196, 124.5112852152935, 129.489220564345, 134.46715591339654, 139.44509126244807, 144.4230266114996, 149.40096196055111, 154.37889730960265, 159.35683265865418, 164.33476800770572, 169.31270335675725, 174.29063870580876, 179.2685740548603, 184.24650940391183, 189.22444475296336, 194.2023801020149, 199.1803154510664, 204.15825080011794, 209.13618614916948, 214.114121498221, 219.09205684727254, 224.06999219632408, 229.0479275453756, 234.02586289442712, 239.00379824347866, 243.9817335925302, 248.95966894158173, 253.93760429063323, 258.91553963968477, 263.89347498873633, 268.87141033778784, 273.84934568683934, 278.8272810358909, 283.8052163849424, 288.783151733994, 293.7610870830455, 298.739022432097, 303.71695778114855, 308.69489313020006, 313.6728284792516, 318.6507638283031, 323.62869917735463, 328.6066345264062, 333.5845698754577, 338.56250522450927, 343.5404405735608, 348.5183759226123, 353.49631127166384, 358.47424662071535, 363.4521819697669, 368.4301173188184, 373.4080526678699, 378.3859880169215, 383.363923365973, 388.34185871502456, 393.31979406407606, 398.29772941312757, 403.27566476217913, 408.25360011123064, 413.2315354602822, 418.2094708093337, 423.1874061583853, 428.1653415074368, 433.1432768564883, 438.12121220553985, 443.09914755459135, 448.0770829036429, 453.0550182526944, 458.03295360174593, 463.0108889507975, 467.988824299849, 472.96675964890056, 477.94469499795207, 482.9226303470036, 487.90056569605514, 492.87850104510665, 497.8564363941582]\n"
     ]
    }
   ],
   "source": [
    "x_train = [i for i in range(5)]\n",
    "y_train = [i*5 for i in range(5)]\n",
    "\n",
    "x_test = [i for i in range(101)]\n",
    "\n",
    "model = LinearRegression()\n",
    "model.fit(x_train, y_train)\n",
    "\n",
    "y_pred = model.predict(x_test)\n",
    "print(y_pred)"
   ]
  }
 ],
 "metadata": {
  "kernelspec": {
   "display_name": "Python 3",
   "language": "python",
   "name": "python3"
  },
  "language_info": {
   "codemirror_mode": {
    "name": "ipython",
    "version": 3
   },
   "file_extension": ".py",
   "mimetype": "text/x-python",
   "name": "python",
   "nbconvert_exporter": "python",
   "pygments_lexer": "ipython3",
   "version": "3.10.12"
  }
 },
 "nbformat": 4,
 "nbformat_minor": 2
}
